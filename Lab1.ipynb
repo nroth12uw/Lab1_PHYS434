{
 "cells": [
  {
   "cell_type": "markdown",
   "metadata": {},
   "source": [
    "Nolan Roth <br>\n",
    "PHYS 434 AC <br>\n",
    "Lab #1"
   ]
  },
  {
   "cell_type": "code",
   "execution_count": 41,
   "metadata": {},
   "outputs": [],
   "source": [
    "%matplotlib inline\n",
    "import numpy as np\n",
    "import matplotlib\n",
    "import matplotlib.pyplot as plt\n",
    "import scipy\n",
    "from scipy import stats\n",
    "from scipy.stats import norm\n",
    "from astropy.table import QTable, Table, Column\n",
    "from astropy import units as u\n",
    "import numpy as np\n",
    "\n",
    "plt.rcParams[\"figure.figsize\"] = (10, 5)"
   ]
  },
  {
   "cell_type": "markdown",
   "metadata": {},
   "source": [
    "The Normal Distribution"
   ]
  },
  {
   "cell_type": "markdown",
   "metadata": {},
   "source": [
    "The normal distribution is a bell-shaped curve that is common in statistics. The normal distribution has\n",
    "two defining values associated with it: the mean, or $\\mu$, and standard deviation, or $\\sigma$. The mean determines where the \n",
    "center of the 'bell' is located and the standard deviation determines how spread out the 'bell' is from\n",
    "its mean. A standard normal distribution is a normal distribution with mean $\\mu$ = 0 and standard deviation $\\sigma$ = 1."
   ]
  },
  {
   "cell_type": "code",
   "execution_count": 40,
   "metadata": {},
   "outputs": [
    {
     "data": {
      "image/png": "[encoded data removed]",
      "text/plain": [
       "<Figure size 720x360 with 1 Axes>"
      ]
     },
     "metadata": {
      "needs_background": "light"
     },
     "output_type": "display_data"
    }
   ],
   "source": [
    "mu = 0                                     # mu is the mean of the distribution\n",
    "sd = 1                                     # sd here is the standard deviation\n",
    "x = np.linspace(-5.0, 5.0, 1000)\n",
    "plt.plot(x, stats.norm.pdf(x, mu, sd))     # plotting the standard normal distribution\n",
    "plt.show()"
   ]
  },
  {
   "cell_type": "markdown",
   "metadata": {},
   "source": [
    "The distance of a value from the mean $\\mu$ can be expressed in term of $\\sigma$. We can integrate under the curve of the standard normal distribution from the mean to a value of $\\sigma$ to find the probability that a random value will lie between the mean and that value of $\\sigma$. "
   ]
  },
  {
   "cell_type": "code",
   "execution_count": 37,
   "metadata": {},
   "outputs": [
    {
     "name": "stdout",
     "output_type": "stream",
     "text": [
      "Probabilities = \n",
      "[0.84134475 0.96406968 0.9986501  0.99984089]\n"
     ]
    }
   ],
   "source": [
    "sigma_values = [1, 1.8, 3, 3.6]                  # some sample values of sigma \n",
    "probabilities = stats.norm.cdf(sigma_values)     # calculating probabilities from sigma values \n",
    "print('Probabilities = ')       \n",
    "print(probabilities)                      "
   ]
  },
  {
   "cell_type": "markdown",
   "metadata": {},
   "source": [
    "This tells us the probabilites of finding random values between the mean and $\\sigma$, 1.8$\\sigma$, 3$\\sigma$, and 3.6$\\sigma$. We can also do the inverse, starting with a probility and using the probability density funtion to find a value for $\\sigma$ that would give us that probability. These probabilities match the values from a one-tailed z-score table."
   ]
  },
  {
   "cell_type": "code",
   "execution_count": 42,
   "metadata": {},
   "outputs": [
    {
     "name": "stdout",
     "output_type": "stream",
     "text": [
      "Sigmas = \n",
      "[1.  1.8 3.  3.6]\n"
     ]
    }
   ],
   "source": [
    "sigma_values = stats.norm.ppf(probabilities)     # calculating sigma values from probabilities\n",
    "print('Sigmas = ')\n",
    "print(sigma_values)"
   ]
  },
  {
   "cell_type": "markdown",
   "metadata": {},
   "source": [
    "This tells us the $\\sigma$ values that would correspond to the probabilites above."
   ]
  },
  {
   "cell_type": "markdown",
   "metadata": {},
   "source": [
    "The Lognormal Distribution"
   ]
  },
  {
   "cell_type": "markdown",
   "metadata": {},
   "source": [
    "A variable x is lognormally distributed if log(x) is normally distributed. Like the normal distribution, the lognormal distribution also has a mean $\\mu$ and standard deviation $\\sigma$ that defines the shape of its curve."
   ]
  },
  {
   "cell_type": "code",
   "execution_count": null,
   "metadata": {},
   "outputs": [],
   "source": []
  },
  {
   "cell_type": "code",
   "execution_count": null,
   "metadata": {},
   "outputs": [],
   "source": []
  }
 ],
 "metadata": {
  "kernelspec": {
   "display_name": "Python 3",
   "language": "python",
   "name": "python3"
  },
  "language_info": {
   "codemirror_mode": {
    "name": "ipython",
    "version": 3
   },
   "file_extension": ".py",
   "mimetype": "text/x-python",
   "name": "python",
   "nbconvert_exporter": "python",
   "pygments_lexer": "ipython3",
   "version": "3.7.4"
  }
 },
 "nbformat": 4,
 "nbformat_minor": 4
}
