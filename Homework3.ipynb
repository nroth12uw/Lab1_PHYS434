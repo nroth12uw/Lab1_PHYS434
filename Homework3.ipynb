{
 "cells": [
  {
   "cell_type": "markdown",
   "metadata": {},
   "source": [
    "Nolan Roth <br>\n",
    "PHYS 434 AC <br>"
   ]
  },
  {
   "cell_type": "markdown",
   "metadata": {},
   "source": [
    "# Homework #3"
   ]
  },
  {
   "cell_type": "code",
   "execution_count": 2,
   "metadata": {},
   "outputs": [],
   "source": [
    "%matplotlib inline\n",
    "import numpy as np\n",
    "import matplotlib\n",
    "import matplotlib.pyplot as plt\n",
    "import scipy\n",
    "from scipy import stats\n",
    "from scipy import signal\n",
    "from scipy.stats import norm\n",
    "from astropy.table import QTable, Table, Column\n",
    "from astropy import units as u\n",
    "import numpy as np\n",
    "\n",
    "plt.rcParams[\"figure.figsize\"] = (10, 5)"
   ]
  },
  {
   "cell_type": "markdown",
   "metadata": {},
   "source": [
    "## Problem 1"
   ]
  },
  {
   "cell_type": "markdown",
   "metadata": {},
   "source": [
    "Below is the truth table for the neural network (NN) algorithm:"
   ]
  },
  {
   "cell_type": "code",
   "execution_count": 3,
   "metadata": {},
   "outputs": [
    {
     "data": {
      "text/html": [
       "<i>QTable length=2</i>\n",
       "<table id=\"table140315008098128\" class=\"table-striped table-bordered table-condensed\">\n",
       "<thead><tr><th></th><th>True Bird</th><th>True Person</th></tr></thead>\n",
       "<thead><tr><th>str9</th><th>int64</th><th>int64</th></tr></thead>\n",
       "<tr><td>NN bird</td><td>45</td><td>5</td></tr>\n",
       "<tr><td>NN Person</td><td>3</td><td>47</td></tr>\n",
       "</table>"
      ],
      "text/plain": [
       "<QTable length=2>\n",
       "          True Bird True Person\n",
       "   str9     int64      int64   \n",
       "--------- --------- -----------\n",
       "  NN bird        45           5\n",
       "NN Person         3          47"
      ]
     },
     "execution_count": 3,
     "metadata": {},
     "output_type": "execute_result"
    }
   ],
   "source": [
    "t1 = QTable()\n",
    "t1[' '] = ['NN bird', 'NN Person']\n",
    "t1['True Bird'] = [45, 3]\n",
    "t1['True Person'] = [5, 47]\n",
    "t1"
   ]
  },
  {
   "cell_type": "markdown",
   "metadata": {},
   "source": [
    "Below is the truth table for the new algorithm (NA):"
   ]
  },
  {
   "cell_type": "code",
   "execution_count": 23,
   "metadata": {},
   "outputs": [
    {
     "data": {
      "text/html": [
       "<i>Table length=2</i>\n",
       "<table id=\"table140607435756048\" class=\"table-striped table-bordered table-condensed\">\n",
       "<thead><tr><th></th><th>True Bird</th><th>True Person</th></tr></thead>\n",
       "<thead><tr><th>str9</th><th>int64</th><th>int64</th></tr></thead>\n",
       "<tr><td>NN bird</td><td>47</td><td>11</td></tr>\n",
       "<tr><td>NN Person</td><td>1</td><td>42</td></tr>\n",
       "</table>"
      ],
      "text/plain": [
       "<Table length=2>\n",
       "          True Bird True Person\n",
       "   str9     int64      int64   \n",
       "--------- --------- -----------\n",
       "  NN bird        47          11\n",
       "NN Person         1          42"
      ]
     },
     "execution_count": 23,
     "metadata": {},
     "output_type": "execute_result"
    }
   ],
   "source": [
    "t2 = Table()\n",
    "t2[' '] = ['NN bird', 'NN Person']\n",
    "t2['True Bird'] = [47, 1]\n",
    "t2['True Person'] = [11, 42]\n",
    "t2"
   ]
  },
  {
   "cell_type": "markdown",
   "metadata": {},
   "source": [
    "From the tables, we can see that neural network made the fewest mistakes with only 8 incorrect identifications compared to 12 by the new algorithm. "
   ]
  },
  {
   "cell_type": "markdown",
   "metadata": {},
   "source": [
    "However, the new algorithm is better for the zoo because it only identified 1 bird incorrectly as a person, compared to 3 by the neural network algorithm. This means the new algorithm would be better for keeping birds from escaping. Because keeping birds from escaping is more important to the zoo than preventing zookeepers from getting locked in, the new algorithm is better for the zoo."
   ]
  },
  {
   "cell_type": "markdown",
   "metadata": {},
   "source": [
    "During the pandemic, only 1% of the photos are of true people instead of the original 52%. Below is the updated truth table for the neural network algorithm:"
   ]
  },
  {
   "cell_type": "code",
   "execution_count": 35,
   "metadata": {},
   "outputs": [
    {
     "data": {
      "text/html": [
       "<i>QTable length=2</i>\n",
       "<table id=\"table140606751868496\" class=\"table-striped table-bordered table-condensed\">\n",
       "<thead><tr><th></th><th>True Bird</th><th>True Person</th></tr></thead>\n",
       "<thead><tr><th>str9</th><th>int64</th><th>int64</th></tr></thead>\n",
       "<tr><td>NN bird</td><td>93</td><td>0</td></tr>\n",
       "<tr><td>NN Person</td><td>6</td><td>1</td></tr>\n",
       "</table>"
      ],
      "text/plain": [
       "<QTable length=2>\n",
       "          True Bird True Person\n",
       "   str9     int64      int64   \n",
       "--------- --------- -----------\n",
       "  NN bird        93           0\n",
       "NN Person         6           1"
      ]
     },
     "execution_count": 35,
     "metadata": {},
     "output_type": "execute_result"
    }
   ],
   "source": [
    "t3 = QTable()\n",
    "t3[' '] = ['NN bird', 'NN Person']\n",
    "t3['True Bird'] = [93, 6]\n",
    "t3['True Person'] = [0, 1]\n",
    "t3"
   ]
  },
  {
   "cell_type": "markdown",
   "metadata": {},
   "source": [
    "Below is the updated truth table for the new algorithm:"
   ]
  },
  {
   "cell_type": "code",
   "execution_count": 37,
   "metadata": {},
   "outputs": [
    {
     "data": {
      "text/html": [
       "<i>QTable length=2</i>\n",
       "<table id=\"table140606751803280\" class=\"table-striped table-bordered table-condensed\">\n",
       "<thead><tr><th></th><th>True Bird</th><th>True Person</th></tr></thead>\n",
       "<thead><tr><th>str9</th><th>int64</th><th>int64</th></tr></thead>\n",
       "<tr><td>NN bird</td><td>97</td><td>0</td></tr>\n",
       "<tr><td>NN Person</td><td>2</td><td>1</td></tr>\n",
       "</table>"
      ],
      "text/plain": [
       "<QTable length=2>\n",
       "          True Bird True Person\n",
       "   str9     int64      int64   \n",
       "--------- --------- -----------\n",
       "  NN bird        97           0\n",
       "NN Person         2           1"
      ]
     },
     "execution_count": 37,
     "metadata": {},
     "output_type": "execute_result"
    }
   ],
   "source": [
    "t4 = QTable()\n",
    "t4[' '] = ['NN bird', 'NN Person']\n",
    "t4['True Bird'] = [97, 2]\n",
    "t4['True Person'] = [0, 1]\n",
    "t4"
   ]
  },
  {
   "cell_type": "markdown",
   "metadata": {},
   "source": [
    "## Problem 2"
   ]
  },
  {
   "cell_type": "markdown",
   "metadata": {},
   "source": [
    "The sum of two exponential distributions is the Erlang distribution with k = 2."
   ]
  },
  {
   "cell_type": "markdown",
   "metadata": {},
   "source": [
    "The ratio of two standard normal distributions is a Cauchy distribution."
   ]
  },
  {
   "cell_type": "code",
   "execution_count": null,
   "metadata": {},
   "outputs": [],
   "source": []
  }
 ],
 "metadata": {
  "kernelspec": {
   "display_name": "Python 3",
   "language": "python",
   "name": "python3"
  },
  "language_info": {
   "codemirror_mode": {
    "name": "ipython",
    "version": 3
   },
   "file_extension": ".py",
   "mimetype": "text/x-python",
   "name": "python",
   "nbconvert_exporter": "python",
   "pygments_lexer": "ipython3",
   "version": "3.7.4"
  }
 },
 "nbformat": 4,
 "nbformat_minor": 4
}
